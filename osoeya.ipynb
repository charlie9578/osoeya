{
 "cells": [
  {
   "cell_type": "code",
   "execution_count": 1,
   "metadata": {},
   "outputs": [],
   "source": [
    "# Next steps:\n",
    "# 1) DONE - normalise generation (days in month, gross generation, degradation)\n",
    "# 2) DONE - plot correlation\n",
    "# 3) remove outliers\n",
    "# 4) DONE - linear fit and synthesise generation\n",
    "# 5) DONE - LT corrections\n",
    "# 6) DONE - P50 output with availability shown\n",
    "\n",
    "# Improvements:\n",
    "# DONE - ERA5 download for whole of world to speed up results\n",
    "# PARTIAL - EIA download for all plants to speed up results\n",
    "# Review other fits: https://realpython.com/linear-regression-in-python/\n",
    "# MERRA2 included as well\n",
    "# Cover wind and solar\n",
    "# Degradation analysis\n",
    "# Simple front-end\n",
    "# Examples\n",
    "# Documentation\n",
    "# Extend to other open generation datasets "
   ]
  },
  {
   "cell_type": "code",
   "execution_count": 2,
   "metadata": {},
   "outputs": [],
   "source": [
    "# load system packages\n",
    "import os\n",
    "from pathlib import Path\n",
    "\n",
    "# load custom packages (requirements)\n",
    "from dotenv import load_dotenv\n",
    "import pandas as pd\n",
    "import matplotlib.pyplot as plt\n",
    "from sklearn.cluster import DBSCAN\n",
    "from scipy import stats\n",
    "\n",
    "\n",
    "# load local packages\n",
    "from downloader import get_era5_monthly, get_EIA_plant_information, get_EIA_plant_generation\n",
    "\n",
    "# load environment variables\n",
    "load_dotenv()\n",
    "EIA_API_KEY = os.environ[\"EIA_API_KEY\"]\n",
    "\n"
   ]
  },
  {
   "cell_type": "code",
   "execution_count": 3,
   "metadata": {},
   "outputs": [
    {
     "name": "stdout",
     "output_type": "stream",
     "text": [
      "      Unnamed: 0   period stateid   stateName       sector   sectorName  \\\n",
      "0              0  2023-05      TX       Texas  ipp-non-chp  IPP Non-CHP   \n",
      "1              1  2023-05      IL    Illinois  ipp-non-chp  IPP Non-CHP   \n",
      "2              2  2023-05      IL    Illinois  ipp-non-chp  IPP Non-CHP   \n",
      "3              3  2023-05      NM  New Mexico  ipp-non-chp  IPP Non-CHP   \n",
      "4              4  2023-05      NM  New Mexico  ipp-non-chp  IPP Non-CHP   \n",
      "...          ...      ...     ...         ...          ...          ...   \n",
      "1518        1518  2023-05      MI    Michigan  ipp-non-chp  IPP Non-CHP   \n",
      "1519        1519  2023-05      KS      Kansas  ipp-non-chp  IPP Non-CHP   \n",
      "1520        1520  2023-05      KS      Kansas  ipp-non-chp  IPP Non-CHP   \n",
      "1521        1521  2023-05      KS      Kansas  ipp-non-chp  IPP Non-CHP   \n",
      "1522        1522  2023-05      TX       Texas  ipp-non-chp  IPP Non-CHP   \n",
      "\n",
      "      entityid                          entityName  plantid  \\\n",
      "0        58998              Chapman Ranch Wind LLC    59193   \n",
      "1        56421         Blackstone Wind Farm II LLC    57113   \n",
      "2        56418            Blackstone Wind Farm LLC    57110   \n",
      "3        57421                    Chopin Wind, LLC    58465   \n",
      "4        57421                    Chopin Wind, LLC    58464   \n",
      "...        ...                                 ...      ...   \n",
      "1518     62870    Heritage Sustainable Energy. LLC    65143   \n",
      "1519     60406   Cimarron Bend Wind Project I, LLC    60687   \n",
      "1520     60407  Cimarron Bend Wind Project II, LLC    60688   \n",
      "1521     58143            Cimarron Wind Energy LLC    57762   \n",
      "1522     58134                   Cirrus Wind 1 LLC    58162   \n",
      "\n",
      "                               plantName  ...  \\\n",
      "0                   Chapman Ranch Wind I  ...   \n",
      "1            Blackstone Wind Farm II LLC  ...   \n",
      "2               Blackstone Wind Farm LLC  ...   \n",
      "3           Broadview Energy Prime 2 LLC  ...   \n",
      "4             Broadview Energy Prime LLC  ...   \n",
      "...                                  ...  ...   \n",
      "1518              Big Turtle Wind Farm 2  ...   \n",
      "1519   Cimarron Bend Wind Project I, LLC  ...   \n",
      "1520  Cimarron Bend Wind Project II, LLC  ...   \n",
      "1521            Cimarron Wind Energy LLC  ...   \n",
      "1522                   Cirrus Wind 1 LLC  ...   \n",
      "\n",
      "                               balancing-authority-name status  \\\n",
      "0           Electric Reliability Council of Texas, Inc.     OP   \n",
      "1                              PJM Interconnection, LLC     OP   \n",
      "2                              PJM Interconnection, LLC     OP   \n",
      "3                                  Southwest Power Pool     OP   \n",
      "4                                  Southwest Power Pool     OP   \n",
      "...                                                 ...    ...   \n",
      "1518  Midcontinent Independent Transmission System O...     OP   \n",
      "1519                               Southwest Power Pool     OP   \n",
      "1520                               Southwest Power Pool     OP   \n",
      "1521                               Southwest Power Pool     OP   \n",
      "1522                               Southwest Power Pool     OP   \n",
      "\n",
      "     statusDescription nameplate-capacity-mw   longitude   latitude  \\\n",
      "0            Operating                 236.0  -97.500833  27.592500   \n",
      "1            Operating                 200.0  -88.530000  41.140600   \n",
      "2            Operating                 106.0  -88.623300  41.150800   \n",
      "3            Operating                   9.9 -103.305000  34.728056   \n",
      "4            Operating                   9.9 -103.325000  34.746944   \n",
      "...                ...                   ...         ...        ...   \n",
      "1518         Operating                  29.4  -82.794428  43.919558   \n",
      "1519         Operating                 200.0  -99.991000  37.355000   \n",
      "1520         Operating                 200.0  -99.991000  37.355000   \n",
      "1521         Operating                 165.6 -100.280277  37.873889   \n",
      "1522         Operating                  61.2 -101.687500  33.033056   \n",
      "\n",
      "     operating-year-month planned-retirement-year-month unit  \\\n",
      "0                 2017-10                           NaN  NaN   \n",
      "1                 2010-08                           NaN  NaN   \n",
      "2                 2009-10                           NaN  NaN   \n",
      "3                 2014-02                           NaN  NaN   \n",
      "4                 2014-02                           NaN  NaN   \n",
      "...                   ...                           ...  ...   \n",
      "1518              2016-10                           NaN  NaN   \n",
      "1519              2016-12                           NaN  NaN   \n",
      "1520              2017-03                           NaN  NaN   \n",
      "1521              2012-11                           NaN  NaN   \n",
      "1522              2012-12                           NaN  NaN   \n",
      "\n",
      "      nameplate-capacity-mw-units  \n",
      "0                              MW  \n",
      "1                              MW  \n",
      "2                              MW  \n",
      "3                              MW  \n",
      "4                              MW  \n",
      "...                           ...  \n",
      "1518                           MW  \n",
      "1519                           MW  \n",
      "1520                           MW  \n",
      "1521                           MW  \n",
      "1522                           MW  \n",
      "\n",
      "[1523 rows x 26 columns]\n"
     ]
    }
   ],
   "source": [
    "# get EIA plant information for wind assets\n",
    "plant_info_file=Path(\"data/plant_list.csv\").resolve()\n",
    "if not plant_info_file.is_file():\n",
    "    df_plant = get_EIA_plant_information(EIA_API_KEY)\n",
    "    df_plant.to_csv(plant_info_file)\n",
    "else:\n",
    "    df_plant = pd.read_csv(plant_info_file)\n",
    "\n",
    "print(df_plant)\n",
    "\n"
   ]
  },
  {
   "cell_type": "code",
   "execution_count": 4,
   "metadata": {},
   "outputs": [
    {
     "name": "stdout",
     "output_type": "stream",
     "text": [
      "Unnamed: 0                                                 1\n",
      "period                                               2023-05\n",
      "stateid                                                   IL\n",
      "stateName                                           Illinois\n",
      "sector                                           ipp-non-chp\n",
      "sectorName                                       IPP Non-CHP\n",
      "entityid                                               56421\n",
      "entityName                       Blackstone Wind Farm II LLC\n",
      "plantid                                                57113\n",
      "plantName                        Blackstone Wind Farm II LLC\n",
      "generatorid                                            GEN 1\n",
      "technology                              Onshore Wind Turbine\n",
      "energy_source_code                                       WND\n",
      "energy-source-desc                                      Wind\n",
      "prime_mover_code                                          WT\n",
      "balancing_authority_code                                 PJM\n",
      "balancing-authority-name            PJM Interconnection, LLC\n",
      "status                                                    OP\n",
      "statusDescription                                  Operating\n",
      "nameplate-capacity-mw                                  200.0\n",
      "longitude                                             -88.53\n",
      "latitude                                             41.1406\n",
      "operating-year-month                                 2010-08\n",
      "planned-retirement-year-month                            NaN\n",
      "unit                                                     NaN\n",
      "nameplate-capacity-mw-units                               MW\n",
      "Name: 1, dtype: object\n"
     ]
    }
   ],
   "source": [
    "# select an EIA plant for analysis\n",
    "selected_plant = df_plant.iloc[1]\n",
    "print(selected_plant)\n"
   ]
  },
  {
   "cell_type": "code",
   "execution_count": 5,
   "metadata": {},
   "outputs": [
    {
     "name": "stdout",
     "output_type": "stream",
     "text": [
      "            Unnamed: 0  plantCode                    plantName fuel2002  \\\n",
      "period                                                                    \n",
      "2021-12-01           0      57113  Blackstone Wind Farm II LLC      WND   \n",
      "2021-11-01           1      57113  Blackstone Wind Farm II LLC      WND   \n",
      "2021-10-01           2      57113  Blackstone Wind Farm II LLC      WND   \n",
      "2021-09-01           3      57113  Blackstone Wind Farm II LLC      WND   \n",
      "2021-08-01           4      57113  Blackstone Wind Farm II LLC      WND   \n",
      "...                ...        ...                          ...      ...   \n",
      "2010-12-01         132      57113  Blackstone Wind Farm II LLC      WND   \n",
      "2010-11-01         133      57113  Blackstone Wind Farm II LLC      WND   \n",
      "2010-10-01         134      57113  Blackstone Wind Farm II LLC      WND   \n",
      "2010-09-01         135      57113  Blackstone Wind Farm II LLC      WND   \n",
      "2010-08-01         136      57113  Blackstone Wind Farm II LLC      WND   \n",
      "\n",
      "           fuelTypeDescription state stateDescription primeMover  generation  \\\n",
      "period                                                                         \n",
      "2021-12-01                Wind    IL         Illinois        ALL    59986.34   \n",
      "2021-11-01                Wind    IL         Illinois        ALL    58228.13   \n",
      "2021-10-01                Wind    IL         Illinois        ALL    43604.64   \n",
      "2021-09-01                Wind    IL         Illinois        ALL    39964.27   \n",
      "2021-08-01                Wind    IL         Illinois        ALL    22447.84   \n",
      "...                        ...   ...              ...        ...         ...   \n",
      "2010-12-01                Wind    IL         Illinois        ALL    50388.00   \n",
      "2010-11-01                Wind    IL         Illinois        ALL    59506.00   \n",
      "2010-10-01                Wind    IL         Illinois        ALL    39593.00   \n",
      "2010-09-01                Wind    IL         Illinois        ALL    23628.00   \n",
      "2010-08-01                Wind    IL         Illinois        ALL     2877.00   \n",
      "\n",
      "            gross-generation generation-units gross-generation-units  \n",
      "period                                                                \n",
      "2021-12-01          60136.07    megawatthours          megawatthours  \n",
      "2021-11-01          58373.48    megawatthours          megawatthours  \n",
      "2021-10-01          43713.48    megawatthours          megawatthours  \n",
      "2021-09-01          40064.02    megawatthours          megawatthours  \n",
      "2021-08-01          22503.87    megawatthours          megawatthours  \n",
      "...                      ...              ...                    ...  \n",
      "2010-12-01          50505.00    megawatthours          megawatthours  \n",
      "2010-11-01          59551.00    megawatthours          megawatthours  \n",
      "2010-10-01          39593.00    megawatthours          megawatthours  \n",
      "2010-09-01          23628.00    megawatthours          megawatthours  \n",
      "2010-08-01           2877.00    megawatthours          megawatthours  \n",
      "\n",
      "[137 rows x 12 columns]\n"
     ]
    }
   ],
   "source": [
    "\n",
    "# get the EIA generation for the selected plant\n",
    "plant_data_file=Path(f\"data/plant_generation_{selected_plant['plantid']}.csv\").resolve()\n",
    "if not plant_data_file.is_file():\n",
    "    df_generation = get_EIA_plant_generation(EIA_API_KEY,plantCode=selected_plant[\"plantid\"])\n",
    "    df_generation.to_csv(plant_data_file)\n",
    "else:\n",
    "    df_generation = pd.read_csv(plant_data_file)\n",
    "\n",
    "# set index to converted datetime\n",
    "df_generation = df_generation.set_index(\"period\")\n",
    "df_generation.index = pd.to_datetime(df_generation.index)\n",
    "print(df_generation)\n",
    "\n"
   ]
  },
  {
   "cell_type": "code",
   "execution_count": 6,
   "metadata": {},
   "outputs": [
    {
     "name": "stdout",
     "output_type": "stream",
     "text": [
      "            windspeed_ms\n",
      "datetime                \n",
      "2000-01-01      4.219223\n",
      "2000-02-01      4.407962\n",
      "2000-03-01      3.918223\n",
      "2000-04-01      3.929246\n",
      "2000-05-01      4.040654\n",
      "...                  ...\n",
      "2023-04-01      4.373532\n",
      "2023-05-01      3.557866\n",
      "2023-06-01      3.409114\n",
      "2023-07-01      2.631998\n",
      "2023-08-01      3.138621\n",
      "\n",
      "[284 rows x 1 columns]\n"
     ]
    }
   ],
   "source": [
    "# get era5 data for the selected plant\n",
    "df_era5 = get_era5_monthly(\n",
    "    lat=selected_plant[\"latitude\"],\n",
    "    lon=selected_plant[\"longitude\"]%360,\n",
    "    save_pathname=\"data\",\n",
    "    save_filename=selected_plant[\"plantid\"],\n",
    "    data_pathname=\"data/era5_monthly\",\n",
    "    data_filename=\"era5_monthly\",\n",
    "    start_date=\"2000-01\",\n",
    ")\n",
    "\n",
    "print(df_era5)"
   ]
  },
  {
   "cell_type": "code",
   "execution_count": 7,
   "metadata": {},
   "outputs": [
    {
     "name": "stdout",
     "output_type": "stream",
     "text": [
      "            windspeed_ms  generation  gross-generation  month  days-in-month  \\\n",
      "2022-01-01      4.217452         NaN               NaN      1             31   \n",
      "2022-02-01      4.733000         NaN               NaN      2             28   \n",
      "2022-03-01      4.332559         NaN               NaN      3             31   \n",
      "2022-04-01      4.956857         NaN               NaN      4             30   \n",
      "2022-05-01      4.301798         NaN               NaN      5             31   \n",
      "2022-06-01      3.333897         NaN               NaN      6             30   \n",
      "2022-07-01      3.147700         NaN               NaN      7             31   \n",
      "2022-08-01      3.021332         NaN               NaN      8             31   \n",
      "2022-09-01      3.233796         NaN               NaN      9             30   \n",
      "2022-10-01      4.139996         NaN               NaN     10             31   \n",
      "2022-11-01      4.610225         NaN               NaN     11             30   \n",
      "2022-12-01      4.444456         NaN               NaN     12             31   \n",
      "2023-01-01      3.741932         NaN               NaN      1             31   \n",
      "2023-02-01      4.496227         NaN               NaN      2             28   \n",
      "2023-03-01      4.408937         NaN               NaN      3             31   \n",
      "2023-04-01      4.373532         NaN               NaN      4             30   \n",
      "2023-05-01      3.557866         NaN               NaN      5             31   \n",
      "2023-06-01      3.409114         NaN               NaN      6             30   \n",
      "2023-07-01      2.631998         NaN               NaN      7             31   \n",
      "2023-08-01      3.138621         NaN               NaN      8             31   \n",
      "\n",
      "            availability-reported  generation-normalised  \n",
      "2022-01-01                    NaN                    NaN  \n",
      "2022-02-01                    NaN                    NaN  \n",
      "2022-03-01                    NaN                    NaN  \n",
      "2022-04-01                    NaN                    NaN  \n",
      "2022-05-01                    NaN                    NaN  \n",
      "2022-06-01                    NaN                    NaN  \n",
      "2022-07-01                    NaN                    NaN  \n",
      "2022-08-01                    NaN                    NaN  \n",
      "2022-09-01                    NaN                    NaN  \n",
      "2022-10-01                    NaN                    NaN  \n",
      "2022-11-01                    NaN                    NaN  \n",
      "2022-12-01                    NaN                    NaN  \n",
      "2023-01-01                    NaN                    NaN  \n",
      "2023-02-01                    NaN                    NaN  \n",
      "2023-03-01                    NaN                    NaN  \n",
      "2023-04-01                    NaN                    NaN  \n",
      "2023-05-01                    NaN                    NaN  \n",
      "2023-06-01                    NaN                    NaN  \n",
      "2023-07-01                    NaN                    NaN  \n",
      "2023-08-01                    NaN                    NaN  \n"
     ]
    }
   ],
   "source": [
    "# combine wind speed and generation into single dataframe\n",
    "df = pd.concat([df_era5[[\"windspeed_ms\"]],df_generation[[\"generation\",\"gross-generation\"]]],axis=1)\n",
    "\n",
    "# add month number column\n",
    "df[\"month\"] = df.index.to_series().dt.month\n",
    "\n",
    "# add days in month column\n",
    "df[\"days-in-month\"] = df.index.to_series().dt.days_in_month\n",
    "\n",
    "# add availability column\n",
    "df[\"availability-reported\"] = df[\"generation\"]/df[\"gross-generation\"]\n",
    "\n",
    "# add normalised generation column\n",
    "df[\"generation-normalised\"] = df[\"gross-generation\"]*30/df[\"days-in-month\"]\n",
    "\n",
    "print(df.tail(20))\n"
   ]
  },
  {
   "cell_type": "code",
   "execution_count": 8,
   "metadata": {},
   "outputs": [
    {
     "name": "stdout",
     "output_type": "stream",
     "text": [
      "            windspeed_ms  generation  gross-generation  month  days-in-month  \\\n",
      "2010-08-01      2.507124     2877.00           2877.00      8             31   \n",
      "2010-09-01      3.842653    23628.00          23628.00      9             30   \n",
      "2010-10-01      3.913650    39593.00          39593.00     10             31   \n",
      "2010-11-01      4.162776    59506.00          59551.00     11             30   \n",
      "2010-12-01      3.921220    50388.00          50505.00     12             31   \n",
      "...                  ...         ...               ...    ...            ...   \n",
      "2021-08-01      2.698300    22447.84          22503.87      8             31   \n",
      "2021-09-01      3.693215    39964.27          40064.02      9             30   \n",
      "2021-10-01      3.651588    43604.64          43713.48     10             31   \n",
      "2021-11-01      4.191844    58228.13          58373.48     11             30   \n",
      "2021-12-01      4.225758    59986.34          60136.07     12             31   \n",
      "\n",
      "            availability-reported  generation-normalised  \n",
      "2010-08-01               1.000000            2784.193548  \n",
      "2010-09-01               1.000000           23628.000000  \n",
      "2010-10-01               1.000000           38315.806452  \n",
      "2010-11-01               0.999244           59551.000000  \n",
      "2010-12-01               0.997683           48875.806452  \n",
      "...                           ...                    ...  \n",
      "2021-08-01               0.997510           21777.938710  \n",
      "2021-09-01               0.997510           40064.020000  \n",
      "2021-10-01               0.997510           42303.367742  \n",
      "2021-11-01               0.997510           58373.480000  \n",
      "2021-12-01               0.997510           58196.196774  \n",
      "\n",
      "[137 rows x 7 columns]\n"
     ]
    }
   ],
   "source": [
    "\n",
    "df_concurrent = df.copy()\n",
    "df_concurrent = df_concurrent.dropna(subset=[\"windspeed_ms\",\"generation-normalised\"])\n",
    "\n",
    "print(df_concurrent)\n"
   ]
  },
  {
   "cell_type": "code",
   "execution_count": 9,
   "metadata": {},
   "outputs": [
    {
     "name": "stdout",
     "output_type": "stream",
     "text": [
      "Slope: 23679.64282662881\n",
      "Intercept: -47969.80598707147\n",
      "R-squared: 0.901515\n"
     ]
    }
   ],
   "source": [
    "\n",
    "# apply linear fit\n",
    "res = stats.linregress(x=df_concurrent[\"windspeed_ms\"],y=df_concurrent[\"generation-normalised\"])\n",
    "\n",
    "print(f\"Slope: {res.slope}\")\n",
    "print(f\"Intercept: {res.intercept}\")\n",
    "print(f\"R-squared: {res.rvalue**2:.6f}\")\n",
    "\n",
    "# synthesise generation\n",
    "df_concurrent[\"generation-synthesised\"] = res.intercept + res.slope*df_concurrent[\"windspeed_ms\"]\n",
    "df[\"generation-synthesised\"] = res.intercept + res.slope*df[\"windspeed_ms\"]\n"
   ]
  },
  {
   "cell_type": "code",
   "execution_count": 10,
   "metadata": {},
   "outputs": [
    {
     "name": "stdout",
     "output_type": "stream",
     "text": [
      "       generation-normalised  generation-synthesised\n",
      "month                                               \n",
      "1               52820.050733            51347.023438\n",
      "2               52782.206326            52734.148438\n",
      "3               52868.677126            50692.761719\n",
      "4               55235.773636            54319.238281\n",
      "5               40477.209677            42574.398438\n",
      "6               31309.899091            33242.679688\n",
      "7               19143.197947            19312.517578\n",
      "8               15984.597581            15985.062500\n",
      "9               28639.444167            32706.203125\n",
      "10              42480.273387            46382.683594\n",
      "11              56209.232500            52004.187500\n",
      "12              49408.741935            46023.824219\n",
      "       generation-normalised  generation-synthesised  resource-adjustment\n",
      "month                                                                    \n",
      "1               52820.050733            50813.792969             0.989615\n",
      "2               52782.206326            52268.843750             0.991176\n",
      "3               52868.677126            51123.261719             1.008492\n",
      "4               55235.773636            55796.640625             1.027199\n",
      "5               40477.209677            44006.558594             1.033639\n",
      "6               31309.899091            32050.648438             0.964142\n",
      "7               19143.197947            20393.447266             1.055970\n",
      "8               15984.597581            18823.140625             1.177546\n",
      "9               28639.444167            30929.707031             0.945683\n",
      "10              42480.273387            45899.972656             0.989593\n",
      "11              56209.232500            51577.066406             0.991787\n",
      "12              49408.741935            49105.988281             1.066969\n"
     ]
    }
   ],
   "source": [
    "# mean of monthly means\n",
    "momm_concurrent = df_concurrent.groupby(\"month\").mean() \n",
    "momm = df.groupby(\"month\").mean()\n",
    "\n",
    "# long-term resource adjustment\n",
    "momm[\"resource-adjustment\"] = momm[\"generation-synthesised\"]/momm_concurrent[\"generation-synthesised\"]\n",
    "\n",
    "print(momm_concurrent[[\"generation-normalised\",\"generation-synthesised\"]])\n",
    "print(momm[[\"generation-normalised\",\"generation-synthesised\",\"resource-adjustment\"]])\n",
    "\n",
    "\n"
   ]
  },
  {
   "cell_type": "code",
   "execution_count": 11,
   "metadata": {},
   "outputs": [
    {
     "name": "stdout",
     "output_type": "stream",
     "text": [
      "       gross-generation-long-term  reported-availability  \\\n",
      "month                                                      \n",
      "1                    54013.906092               0.997798   \n",
      "2                    49297.767075               0.997956   \n",
      "3                    55094.911682               0.997850   \n",
      "4                    56738.106758               0.998255   \n",
      "5                    43233.448034               0.997861   \n",
      "6                    30187.174567               0.996836   \n",
      "7                    20888.472674               0.993512   \n",
      "8                    19450.013402               0.992494   \n",
      "9                    27083.840670               0.996761   \n",
      "10                   43439.447313               0.997666   \n",
      "11                   55747.573594               0.998264   \n",
      "12                   54474.844979               0.997915   \n",
      "\n",
      "       net-generation-long-term  \n",
      "month                            \n",
      "1                  53894.984940  \n",
      "2                  49197.000476  \n",
      "3                  54976.468840  \n",
      "4                  56639.073612  \n",
      "5                  43140.958960  \n",
      "6                  30091.670211  \n",
      "7                  20752.943669  \n",
      "8                  19304.025216  \n",
      "9                  26996.123038  \n",
      "10                 43338.055279  \n",
      "11                 55650.792560  \n",
      "12                 54361.266138  \n"
     ]
    }
   ],
   "source": [
    "# long-term monthly\n",
    "momm[\"reported-availability\"] = momm[\"generation\"]/momm[\"gross-generation\"]\n",
    "momm[\"gross-generation-long-term\"] = momm[\"gross-generation\"]*momm[\"resource-adjustment\"]\n",
    "momm[\"net-generation-long-term\"] = momm[\"gross-generation-long-term\"]*momm[\"reported-availability\"]\n",
    "\n",
    "print(momm[[\"gross-generation-long-term\",\"reported-availability\",\"net-generation-long-term\"]])"
   ]
  },
  {
   "cell_type": "code",
   "execution_count": 12,
   "metadata": {},
   "outputs": [
    {
     "name": "stdout",
     "output_type": "stream",
     "text": [
      "generation                    502144.017879\n",
      "gross-generation              503419.811212\n",
      "gross-generation-long-term    509649.506841\n",
      "net-generation-long-term      508343.362939\n",
      "resource-adjustment                1.012375\n",
      "availability                       0.997437\n",
      "r-squared                          0.901515\n",
      "dtype: float64\n"
     ]
    }
   ],
   "source": [
    "# P50 estimate\n",
    "p50 = momm[[\"generation\",\"gross-generation\",\"gross-generation-long-term\",\"net-generation-long-term\"]].sum()\n",
    "p50[\"resource-adjustment\"] = p50[\"gross-generation-long-term\"]/p50[\"gross-generation\"]\n",
    "p50[\"availability\"] = p50[\"net-generation-long-term\"]/p50[\"gross-generation-long-term\"]\n",
    "p50[\"r-squared\"] = res.rvalue**2\n",
    "print(p50)"
   ]
  },
  {
   "cell_type": "code",
   "execution_count": 13,
   "metadata": {},
   "outputs": [
    {
     "name": "stdout",
     "output_type": "stream",
     "text": [
      "            windspeed_ms  generation  gross-generation  month  days-in-month  \\\n",
      "2010-08-01      2.507124     2877.00           2877.00      8             31   \n",
      "2010-09-01      3.842653    23628.00          23628.00      9             30   \n",
      "2010-10-01      3.913650    39593.00          39593.00     10             31   \n",
      "2010-11-01      4.162776    59506.00          59551.00     11             30   \n",
      "2010-12-01      3.921220    50388.00          50505.00     12             31   \n",
      "...                  ...         ...               ...    ...            ...   \n",
      "2021-08-01      2.698300    22447.84          22503.87      8             31   \n",
      "2021-09-01      3.693215    39964.27          40064.02      9             30   \n",
      "2021-10-01      3.651588    43604.64          43713.48     10             31   \n",
      "2021-11-01      4.191844    58228.13          58373.48     11             30   \n",
      "2021-12-01      4.225758    59986.34          60136.07     12             31   \n",
      "\n",
      "            availability-reported  generation-normalised  \\\n",
      "2010-08-01               1.000000            2784.193548   \n",
      "2010-09-01               1.000000           23628.000000   \n",
      "2010-10-01               1.000000           38315.806452   \n",
      "2010-11-01               0.999244           59551.000000   \n",
      "2010-12-01               0.997683           48875.806452   \n",
      "...                           ...                    ...   \n",
      "2021-08-01               0.997510           21777.938710   \n",
      "2021-09-01               0.997510           40064.020000   \n",
      "2021-10-01               0.997510           42303.367742   \n",
      "2021-11-01               0.997510           58373.480000   \n",
      "2021-12-01               0.997510           58196.196774   \n",
      "\n",
      "            generation-synthesised     residuals  outlier  \n",
      "2010-08-01            11397.996094  -8613.802545    False  \n",
      "2010-09-01            43022.851562 -19394.851562     True  \n",
      "2010-10-01            44704.015625  -6388.209173    False  \n",
      "2010-11-01            50603.234375   8947.765625    False  \n",
      "2010-12-01            44883.273438   3992.533014    False  \n",
      "...                            ...           ...      ...  \n",
      "2021-08-01            15924.972656   5852.966053    False  \n",
      "2021-09-01            39484.218750    579.801250    False  \n",
      "2021-10-01            38498.492188   3804.875554    False  \n",
      "2021-11-01            51291.554688   7081.925313    False  \n",
      "2021-12-01            52094.632812   6101.563962    False  \n",
      "\n",
      "[137 rows x 10 columns]\n"
     ]
    },
    {
     "data": {
      "text/plain": [
       "<matplotlib.legend.Legend at 0x26dc72acd10>"
      ]
     },
     "execution_count": 13,
     "metadata": {},
     "output_type": "execute_result"
    },
    {
     "data": {
      "image/png": "[encoded data removed]",
      "text/plain": [
       "<Figure size 640x480 with 1 Axes>"
      ]
     },
     "metadata": {},
     "output_type": "display_data"
    }
   ],
   "source": [
    "# detect and plot outliers for review\n",
    "df_concurrent[\"residuals\"] = df_concurrent[\"generation-normalised\"]-df_concurrent[\"generation-synthesised\"]\n",
    "df_concurrent[\"outlier\"] = df_concurrent[\"residuals\"].abs() > 3*df_concurrent[\"residuals\"].std()\n",
    "\n",
    "df_filtered = df_concurrent.loc[df_concurrent[\"outlier\"]==False] \n",
    "\n",
    "print(df_concurrent)\n",
    "\n",
    "plt.plot(df_concurrent[\"windspeed_ms\"], df_concurrent[\"generation-normalised\"], 'ro', label='original data')\n",
    "plt.plot(df_concurrent[\"windspeed_ms\"], df_concurrent[\"generation-synthesised\"], 'r', label='fitted line')\n",
    "plt.plot(df_filtered[\"windspeed_ms\"], df_filtered[\"generation-normalised\"], 'bo', label='filtered data')\n",
    "plt.legend()\n"
   ]
  },
  {
   "cell_type": "code",
   "execution_count": 14,
   "metadata": {},
   "outputs": [],
   "source": [
    "# from sklearn.neighbors import LocalOutlierFactor\n",
    "# import numpy as np\n",
    "\n",
    "# clf = LocalOutlierFactor(n_neighbors=2)\n",
    "# clf.fit_predict(df_concurrent)\n",
    "# df_concurrent[\"clf\"]=clf.negative_outlier_factor_\n",
    "# print(df_concurrent)\n",
    "# df_concurrent.to_clipboard()\n",
    "#np.mean(np.std(clf.negative_outlier_factor_))-5*np.std(clf.negative_outlier_factor_)"
   ]
  },
  {
   "cell_type": "code",
   "execution_count": 15,
   "metadata": {},
   "outputs": [],
   "source": [
    "\n",
    "# fig, ax = plt.subplots(figsize=(20,10)) \n",
    "# df.plot(y = \"generation\", ax = ax) \n",
    "# df.plot(y = \"gross-generation\", ax = ax) \n",
    "# df.plot(y = \"windspeed_ms\", ax = ax, secondary_y = True) \n",
    "# plt.show()\n",
    "\n",
    "#fig, ax = plt.subplots(figsize=(20,10)) \n",
    "#df.plot.scatter(x=\"windspeed_ms\",y=\"generation-normalised\",ax=ax)\n"
   ]
  },
  {
   "cell_type": "code",
   "execution_count": null,
   "metadata": {},
   "outputs": [],
   "source": []
  },
  {
   "cell_type": "code",
   "execution_count": 16,
   "metadata": {},
   "outputs": [],
   "source": [
    "# clustering = DBSCAN(eps=3, min_samples=2).fit(df_concurrent[[\"windspeed_ms\",\"generation-normalised\"]])\n",
    "\n",
    "# print(clustering.labels_)"
   ]
  }
 ],
 "metadata": {
  "kernelspec": {
   "display_name": ".venv",
   "language": "python",
   "name": "python3"
  },
  "language_info": {
   "codemirror_mode": {
    "name": "ipython",
    "version": 3
   },
   "file_extension": ".py",
   "mimetype": "text/x-python",
   "name": "python",
   "nbconvert_exporter": "python",
   "pygments_lexer": "ipython3",
   "version": "3.11.5"
  },
  "orig_nbformat": 4
 },
 "nbformat": 4,
 "nbformat_minor": 2
}
