{
 "cells": [
  {
   "cell_type": "markdown",
   "metadata": {},
   "source": [
    "# Open Source Operational Energy Yield Analysis (Oh SOe YeAh)\n",
    "\n",
    "This python notebook demonstrates the use of the osoeya package to calculate the long-term generation of an asset using historical operational data and resource data."
   ]
  },
  {
   "cell_type": "markdown",
   "metadata": {},
   "source": [
    "## Next steps\n",
    "1. DONE - Remove outliers in correlation\n",
    "1. DONE - Export to excel\n",
    "1. DONE - Concurrent data included in main df, rather than separate\n",
    "1. DONE - Ability for manual exclusions\n",
    "1. DONE - Validate methodology in excel\n",
    "1. Rename columns as required\n",
    "1. Add additional markdown\n",
    "1. Remove example manual filters!"
   ]
  },
  {
   "cell_type": "markdown",
   "metadata": {},
   "source": [
    "## Improvements\n",
    "These are not listed in any particular order at the moment.\n",
    "\n",
    "### Data\n",
    "1. PARTIAL - EIA download for all plants to speed up results\n",
    "1. MERRA2 included as well\n",
    "1. Cover wind and solar\n",
    "1. Link to OSM to get turbine level layout\n",
    "1. Update information on wikidata\n",
    "1. Reporting dodgy data\n",
    "1. Check EIA asset capacity has not changed over time\n",
    "1. Extend to other open generation datasets (e.g. UK, Europe, Australia, Brazil)\n",
    "\n",
    "### Methodology\n",
    "1. Review other fits: https://realpython.com/linear-regression-in-python/\n",
    "1. Degradation analysis (important for solar)\n",
    "1. Time-series analysis to check data consistency\n",
    "1. Validation\n",
    "1. Fringe case of no data in a given month - utilise synthesised data instead\n",
    "1. Ability for manual inputs of generation and availability\n",
    "\n",
    "### Usability\n",
    "1. Simple front-end\n",
    "1. Map of assets covered\n",
    "1. Examples\n",
    "1. Documentation\n",
    "1. Prettify results :)"
   ]
  },
  {
   "cell_type": "markdown",
   "metadata": {},
   "source": [
    "## Methodology\n",
    "\n",
    "1. Load in the required data\n",
    "1. \n",
    "1.\n",
    "1.\n",
    "1."
   ]
  },
  {
   "cell_type": "markdown",
   "metadata": {},
   "source": [
    "## Load libraries and environment variables\n",
    "\n",
    "For downloading the ERA5 resource data from the CDS registration is required. Please see instructions for registration and setting up the API here: https://cds.climate.copernicus.eu/api-how-to\n",
    "\n",
    "For downloading the EIA plant generation data registration is required. See here: https://www.eia.gov/opendata/register.php. The API password should then be added to a .env file in the main OSOEYA directory as follows: EIA_API_KEY = \"xxxx\""
   ]
  },
  {
   "cell_type": "code",
   "execution_count": 1,
   "metadata": {},
   "outputs": [],
   "source": [
    "# load system packages\n",
    "import os\n",
    "from pathlib import Path\n",
    "\n",
    "# load custom packages (requirements)\n",
    "from dotenv import load_dotenv\n",
    "import pandas as pd\n",
    "import matplotlib.pyplot as plt\n",
    "from scipy import stats\n",
    "\n",
    "\n",
    "# load local packages\n",
    "from downloader import get_era5_monthly, get_EIA_plant_information, get_EIA_plant_generation\n",
    "\n",
    "# load environment variables\n",
    "load_dotenv()\n",
    "EIA_API_KEY = os.environ[\"EIA_API_KEY\"]\n",
    "\n"
   ]
  },
  {
   "cell_type": "markdown",
   "metadata": {},
   "source": [
    "## Get data\n",
    "\n",
    "This codes \n",
    "1. Gets EIA plant information\n",
    "1. Allows the user to select a plant for review\n",
    "1. Downloads the EIA generation data for that asset\n",
    "1. Downloads and accesses the long-term ERA5 resource data for the asset\n",
    "\n",
    "The first time this code is run this will take a while, as it downloads a significant amount of data (~500MB for ERA5), for local storage and future rapid access."
   ]
  },
  {
   "cell_type": "code",
   "execution_count": 2,
   "metadata": {},
   "outputs": [
    {
     "data": {
      "text/html": [
       "<div>\n",
       "<style scoped>\n",
       "    .dataframe tbody tr th:only-of-type {\n",
       "        vertical-align: middle;\n",
       "    }\n",
       "\n",
       "    .dataframe tbody tr th {\n",
       "        vertical-align: top;\n",
       "    }\n",
       "\n",
       "    .dataframe thead th {\n",
       "        text-align: right;\n",
       "    }\n",
       "</style>\n",
       "<table border=\"1\" class=\"dataframe\">\n",
       "  <thead>\n",
       "    <tr style=\"text-align: right;\">\n",
       "      <th></th>\n",
       "      <th>Unnamed: 0</th>\n",
       "      <th>period</th>\n",
       "      <th>stateid</th>\n",
       "      <th>stateName</th>\n",
       "      <th>sector</th>\n",
       "      <th>sectorName</th>\n",
       "      <th>entityid</th>\n",
       "      <th>entityName</th>\n",
       "      <th>plantid</th>\n",
       "      <th>plantName</th>\n",
       "      <th>...</th>\n",
       "      <th>balancing-authority-name</th>\n",
       "      <th>status</th>\n",
       "      <th>statusDescription</th>\n",
       "      <th>nameplate-capacity-mw</th>\n",
       "      <th>longitude</th>\n",
       "      <th>latitude</th>\n",
       "      <th>operating-year-month</th>\n",
       "      <th>planned-retirement-year-month</th>\n",
       "      <th>unit</th>\n",
       "      <th>nameplate-capacity-mw-units</th>\n",
       "    </tr>\n",
       "  </thead>\n",
       "  <tbody>\n",
       "    <tr>\n",
       "      <th>0</th>\n",
       "      <td>0</td>\n",
       "      <td>2023-05</td>\n",
       "      <td>TX</td>\n",
       "      <td>Texas</td>\n",
       "      <td>ipp-non-chp</td>\n",
       "      <td>IPP Non-CHP</td>\n",
       "      <td>58998</td>\n",
       "      <td>Chapman Ranch Wind LLC</td>\n",
       "      <td>59193</td>\n",
       "      <td>Chapman Ranch Wind I</td>\n",
       "      <td>...</td>\n",
       "      <td>Electric Reliability Council of Texas, Inc.</td>\n",
       "      <td>OP</td>\n",
       "      <td>Operating</td>\n",
       "      <td>236.0</td>\n",
       "      <td>-97.500833</td>\n",
       "      <td>27.592500</td>\n",
       "      <td>2017-10</td>\n",
       "      <td>NaN</td>\n",
       "      <td>NaN</td>\n",
       "      <td>MW</td>\n",
       "    </tr>\n",
       "    <tr>\n",
       "      <th>1</th>\n",
       "      <td>1</td>\n",
       "      <td>2023-05</td>\n",
       "      <td>IL</td>\n",
       "      <td>Illinois</td>\n",
       "      <td>ipp-non-chp</td>\n",
       "      <td>IPP Non-CHP</td>\n",
       "      <td>56421</td>\n",
       "      <td>Blackstone Wind Farm II LLC</td>\n",
       "      <td>57113</td>\n",
       "      <td>Blackstone Wind Farm II LLC</td>\n",
       "      <td>...</td>\n",
       "      <td>PJM Interconnection, LLC</td>\n",
       "      <td>OP</td>\n",
       "      <td>Operating</td>\n",
       "      <td>200.0</td>\n",
       "      <td>-88.530000</td>\n",
       "      <td>41.140600</td>\n",
       "      <td>2010-08</td>\n",
       "      <td>NaN</td>\n",
       "      <td>NaN</td>\n",
       "      <td>MW</td>\n",
       "    </tr>\n",
       "    <tr>\n",
       "      <th>2</th>\n",
       "      <td>2</td>\n",
       "      <td>2023-05</td>\n",
       "      <td>IL</td>\n",
       "      <td>Illinois</td>\n",
       "      <td>ipp-non-chp</td>\n",
       "      <td>IPP Non-CHP</td>\n",
       "      <td>56418</td>\n",
       "      <td>Blackstone Wind Farm LLC</td>\n",
       "      <td>57110</td>\n",
       "      <td>Blackstone Wind Farm LLC</td>\n",
       "      <td>...</td>\n",
       "      <td>PJM Interconnection, LLC</td>\n",
       "      <td>OP</td>\n",
       "      <td>Operating</td>\n",
       "      <td>106.0</td>\n",
       "      <td>-88.623300</td>\n",
       "      <td>41.150800</td>\n",
       "      <td>2009-10</td>\n",
       "      <td>NaN</td>\n",
       "      <td>NaN</td>\n",
       "      <td>MW</td>\n",
       "    </tr>\n",
       "    <tr>\n",
       "      <th>3</th>\n",
       "      <td>3</td>\n",
       "      <td>2023-05</td>\n",
       "      <td>NM</td>\n",
       "      <td>New Mexico</td>\n",
       "      <td>ipp-non-chp</td>\n",
       "      <td>IPP Non-CHP</td>\n",
       "      <td>57421</td>\n",
       "      <td>Chopin Wind, LLC</td>\n",
       "      <td>58465</td>\n",
       "      <td>Broadview Energy Prime 2 LLC</td>\n",
       "      <td>...</td>\n",
       "      <td>Southwest Power Pool</td>\n",
       "      <td>OP</td>\n",
       "      <td>Operating</td>\n",
       "      <td>9.9</td>\n",
       "      <td>-103.305000</td>\n",
       "      <td>34.728056</td>\n",
       "      <td>2014-02</td>\n",
       "      <td>NaN</td>\n",
       "      <td>NaN</td>\n",
       "      <td>MW</td>\n",
       "    </tr>\n",
       "    <tr>\n",
       "      <th>4</th>\n",
       "      <td>4</td>\n",
       "      <td>2023-05</td>\n",
       "      <td>NM</td>\n",
       "      <td>New Mexico</td>\n",
       "      <td>ipp-non-chp</td>\n",
       "      <td>IPP Non-CHP</td>\n",
       "      <td>57421</td>\n",
       "      <td>Chopin Wind, LLC</td>\n",
       "      <td>58464</td>\n",
       "      <td>Broadview Energy Prime LLC</td>\n",
       "      <td>...</td>\n",
       "      <td>Southwest Power Pool</td>\n",
       "      <td>OP</td>\n",
       "      <td>Operating</td>\n",
       "      <td>9.9</td>\n",
       "      <td>-103.325000</td>\n",
       "      <td>34.746944</td>\n",
       "      <td>2014-02</td>\n",
       "      <td>NaN</td>\n",
       "      <td>NaN</td>\n",
       "      <td>MW</td>\n",
       "    </tr>\n",
       "  </tbody>\n",
       "</table>\n",
       "<p>5 rows × 26 columns</p>\n",
       "</div>"
      ],
      "text/plain": [
       "   Unnamed: 0   period stateid   stateName       sector   sectorName  \\\n",
       "0           0  2023-05      TX       Texas  ipp-non-chp  IPP Non-CHP   \n",
       "1           1  2023-05      IL    Illinois  ipp-non-chp  IPP Non-CHP   \n",
       "2           2  2023-05      IL    Illinois  ipp-non-chp  IPP Non-CHP   \n",
       "3           3  2023-05      NM  New Mexico  ipp-non-chp  IPP Non-CHP   \n",
       "4           4  2023-05      NM  New Mexico  ipp-non-chp  IPP Non-CHP   \n",
       "\n",
       "   entityid                   entityName  plantid  \\\n",
       "0     58998       Chapman Ranch Wind LLC    59193   \n",
       "1     56421  Blackstone Wind Farm II LLC    57113   \n",
       "2     56418     Blackstone Wind Farm LLC    57110   \n",
       "3     57421             Chopin Wind, LLC    58465   \n",
       "4     57421             Chopin Wind, LLC    58464   \n",
       "\n",
       "                      plantName  ...  \\\n",
       "0          Chapman Ranch Wind I  ...   \n",
       "1   Blackstone Wind Farm II LLC  ...   \n",
       "2      Blackstone Wind Farm LLC  ...   \n",
       "3  Broadview Energy Prime 2 LLC  ...   \n",
       "4    Broadview Energy Prime LLC  ...   \n",
       "\n",
       "                      balancing-authority-name status statusDescription  \\\n",
       "0  Electric Reliability Council of Texas, Inc.     OP         Operating   \n",
       "1                     PJM Interconnection, LLC     OP         Operating   \n",
       "2                     PJM Interconnection, LLC     OP         Operating   \n",
       "3                         Southwest Power Pool     OP         Operating   \n",
       "4                         Southwest Power Pool     OP         Operating   \n",
       "\n",
       "  nameplate-capacity-mw   longitude   latitude operating-year-month  \\\n",
       "0                 236.0  -97.500833  27.592500              2017-10   \n",
       "1                 200.0  -88.530000  41.140600              2010-08   \n",
       "2                 106.0  -88.623300  41.150800              2009-10   \n",
       "3                   9.9 -103.305000  34.728056              2014-02   \n",
       "4                   9.9 -103.325000  34.746944              2014-02   \n",
       "\n",
       "  planned-retirement-year-month unit  nameplate-capacity-mw-units  \n",
       "0                           NaN  NaN                           MW  \n",
       "1                           NaN  NaN                           MW  \n",
       "2                           NaN  NaN                           MW  \n",
       "3                           NaN  NaN                           MW  \n",
       "4                           NaN  NaN                           MW  \n",
       "\n",
       "[5 rows x 26 columns]"
      ]
     },
     "execution_count": 2,
     "metadata": {},
     "output_type": "execute_result"
    }
   ],
   "source": [
    "# get EIA plant information for wind assets\n",
    "plant_info_file=Path(\"data/plant_list.csv\").resolve()\n",
    "if not plant_info_file.is_file():\n",
    "    df_plant = get_EIA_plant_information(EIA_API_KEY)\n",
    "    df_plant.to_csv(plant_info_file)\n",
    "else:\n",
    "    df_plant = pd.read_csv(plant_info_file)\n",
    "\n",
    "df_plant.head(5)\n",
    "\n"
   ]
  },
  {
   "cell_type": "code",
   "execution_count": 3,
   "metadata": {},
   "outputs": [
    {
     "name": "stdout",
     "output_type": "stream",
     "text": [
      "Unnamed: 0                                                 1\n",
      "period                                               2023-05\n",
      "stateid                                                   IL\n",
      "stateName                                           Illinois\n",
      "sector                                           ipp-non-chp\n",
      "sectorName                                       IPP Non-CHP\n",
      "entityid                                               56421\n",
      "entityName                       Blackstone Wind Farm II LLC\n",
      "plantid                                                57113\n",
      "plantName                        Blackstone Wind Farm II LLC\n",
      "generatorid                                            GEN 1\n",
      "technology                              Onshore Wind Turbine\n",
      "energy_source_code                                       WND\n",
      "energy-source-desc                                      Wind\n",
      "prime_mover_code                                          WT\n",
      "balancing_authority_code                                 PJM\n",
      "balancing-authority-name            PJM Interconnection, LLC\n",
      "status                                                    OP\n",
      "statusDescription                                  Operating\n",
      "nameplate-capacity-mw                                  200.0\n",
      "longitude                                             -88.53\n",
      "latitude                                             41.1406\n",
      "operating-year-month                                 2010-08\n",
      "planned-retirement-year-month                            NaN\n",
      "unit                                                     NaN\n",
      "nameplate-capacity-mw-units                               MW\n",
      "Name: 1, dtype: object\n"
     ]
    }
   ],
   "source": [
    "# select an EIA plant for analysis\n",
    "selected_plant = df_plant.iloc[1]\n",
    "print(selected_plant)"
   ]
  },
  {
   "cell_type": "code",
   "execution_count": 4,
   "metadata": {},
   "outputs": [
    {
     "name": "stdout",
     "output_type": "stream",
     "text": [
      "            Unnamed: 0  plantCode                    plantName fuel2002  \\\n",
      "period                                                                    \n",
      "2021-12-01           0      57113  Blackstone Wind Farm II LLC      WND   \n",
      "2021-11-01           1      57113  Blackstone Wind Farm II LLC      WND   \n",
      "2021-10-01           2      57113  Blackstone Wind Farm II LLC      WND   \n",
      "2021-09-01           3      57113  Blackstone Wind Farm II LLC      WND   \n",
      "2021-08-01           4      57113  Blackstone Wind Farm II LLC      WND   \n",
      "...                ...        ...                          ...      ...   \n",
      "2010-12-01         132      57113  Blackstone Wind Farm II LLC      WND   \n",
      "2010-11-01         133      57113  Blackstone Wind Farm II LLC      WND   \n",
      "2010-10-01         134      57113  Blackstone Wind Farm II LLC      WND   \n",
      "2010-09-01         135      57113  Blackstone Wind Farm II LLC      WND   \n",
      "2010-08-01         136      57113  Blackstone Wind Farm II LLC      WND   \n",
      "\n",
      "           fuelTypeDescription state stateDescription primeMover  generation  \\\n",
      "period                                                                         \n",
      "2021-12-01                Wind    IL         Illinois        ALL    59986.34   \n",
      "2021-11-01                Wind    IL         Illinois        ALL    58228.13   \n",
      "2021-10-01                Wind    IL         Illinois        ALL    43604.64   \n",
      "2021-09-01                Wind    IL         Illinois        ALL    39964.27   \n",
      "2021-08-01                Wind    IL         Illinois        ALL    22447.84   \n",
      "...                        ...   ...              ...        ...         ...   \n",
      "2010-12-01                Wind    IL         Illinois        ALL    50388.00   \n",
      "2010-11-01                Wind    IL         Illinois        ALL    59506.00   \n",
      "2010-10-01                Wind    IL         Illinois        ALL    39593.00   \n",
      "2010-09-01                Wind    IL         Illinois        ALL    23628.00   \n",
      "2010-08-01                Wind    IL         Illinois        ALL     2877.00   \n",
      "\n",
      "            gross-generation generation-units gross-generation-units  \n",
      "period                                                                \n",
      "2021-12-01          60136.07    megawatthours          megawatthours  \n",
      "2021-11-01          58373.48    megawatthours          megawatthours  \n",
      "2021-10-01          43713.48    megawatthours          megawatthours  \n",
      "2021-09-01          40064.02    megawatthours          megawatthours  \n",
      "2021-08-01          22503.87    megawatthours          megawatthours  \n",
      "...                      ...              ...                    ...  \n",
      "2010-12-01          50505.00    megawatthours          megawatthours  \n",
      "2010-11-01          59551.00    megawatthours          megawatthours  \n",
      "2010-10-01          39593.00    megawatthours          megawatthours  \n",
      "2010-09-01          23628.00    megawatthours          megawatthours  \n",
      "2010-08-01           2877.00    megawatthours          megawatthours  \n",
      "\n",
      "[137 rows x 12 columns]\n"
     ]
    }
   ],
   "source": [
    "# get the EIA generation for the selected plant\n",
    "\n",
    "plant_data_file = Path(f\"data/plant_generation_{selected_plant['plantid']}.csv\").resolve()\n",
    "\n",
    "if not plant_data_file.is_file():\n",
    "    df_generation = get_EIA_plant_generation(EIA_API_KEY,plantCode=selected_plant[\"plantid\"])\n",
    "    df_generation.to_csv(plant_data_file)\n",
    "\n",
    "else:\n",
    "    df_generation = pd.read_csv(plant_data_file)\n",
    "\n",
    "# set index to converted datetime\n",
    "df_generation = df_generation.set_index(\"period\")\n",
    "df_generation.index = pd.to_datetime(df_generation.index)\n",
    "\n",
    "print(df_generation)"
   ]
  },
  {
   "cell_type": "code",
   "execution_count": 5,
   "metadata": {},
   "outputs": [
    {
     "name": "stdout",
     "output_type": "stream",
     "text": [
      "            windspeed_ms\n",
      "datetime                \n",
      "2000-01-01      4.219223\n",
      "2000-02-01      4.407962\n",
      "2000-03-01      3.918223\n",
      "2000-04-01      3.929246\n",
      "2000-05-01      4.040654\n",
      "...                  ...\n",
      "2023-04-01      4.373532\n",
      "2023-05-01      3.557866\n",
      "2023-06-01      3.409114\n",
      "2023-07-01      2.631998\n",
      "2023-08-01      3.138621\n",
      "\n",
      "[284 rows x 1 columns]\n"
     ]
    }
   ],
   "source": [
    "# get era5 data for the selected plant\n",
    "\n",
    "df_era5 = get_era5_monthly(\n",
    "    lat=selected_plant[\"latitude\"],\n",
    "    lon=selected_plant[\"longitude\"]%360,\n",
    "    save_pathname=\"data\",\n",
    "    save_filename=f\"era5_monthly_plant_{selected_plant['plantid']}\",\n",
    "    data_pathname=\"data/era5_monthly\",\n",
    "    data_filename=\"era5_monthly\",\n",
    "    start_date=\"2000-01\",\n",
    ")\n",
    "\n",
    "print(df_era5)"
   ]
  },
  {
   "cell_type": "code",
   "execution_count": 6,
   "metadata": {},
   "outputs": [],
   "source": [
    "# combine wind speed and generation into single dataframe\n",
    "df = pd.concat([df_era5[[\"windspeed_ms\"]],df_generation[[\"generation\",\"gross-generation\"]]],axis=1)\n",
    "\n",
    "# add month number column\n",
    "df[\"month\"] = df.index.to_series().dt.month\n",
    "\n",
    "# add days in month column\n",
    "df[\"days-in-month\"] = df.index.to_series().dt.days_in_month\n",
    "\n",
    "# add availability column\n",
    "df[\"availability-reported\"] = df[\"generation\"]/df[\"gross-generation\"]"
   ]
  },
  {
   "cell_type": "markdown",
   "metadata": {},
   "source": [
    "## Exclusions from long-term analysis\n",
    "\n",
    "Where data is not representative of the long-term, it can be manually excluded. For example this could be due to plant ramp up, acts of god, or other rare events that are unlikely to occur in the future."
   ]
  },
  {
   "cell_type": "code",
   "execution_count": 7,
   "metadata": {},
   "outputs": [],
   "source": [
    "# any dates that are not representative of long-term performance can be excluded here\n",
    "# e.g. df.loc[\"2014-01-01\",\"exclude-from-long-term\"] = True\n",
    "df[\"exclude-from-long-term\"] = False\n",
    "df.loc[\"2014-01-01\",\"exclude-from-long-term\"] = True"
   ]
  },
  {
   "cell_type": "code",
   "execution_count": 8,
   "metadata": {},
   "outputs": [
    {
     "name": "stdout",
     "output_type": "stream",
     "text": [
      "            windspeed_ms  generation  gross-generation  month  days-in-month  \\\n",
      "2010-08-01      2.507124     2877.00           2877.00      8             31   \n",
      "2010-09-01      3.842653    23628.00          23628.00      9             30   \n",
      "2010-10-01      3.913650    39593.00          39593.00     10             31   \n",
      "2010-11-01      4.162776    59506.00          59551.00     11             30   \n",
      "2010-12-01      3.921220    50388.00          50505.00     12             31   \n",
      "...                  ...         ...               ...    ...            ...   \n",
      "2021-08-01      2.698300    22447.84          22503.87      8             31   \n",
      "2021-09-01      3.693215    39964.27          40064.02      9             30   \n",
      "2021-10-01      3.651588    43604.64          43713.48     10             31   \n",
      "2021-11-01      4.191844    58228.13          58373.48     11             30   \n",
      "2021-12-01      4.225758    59986.34          60136.07     12             31   \n",
      "\n",
      "            availability-reported  exclude-from-long-term  \\\n",
      "2010-08-01               1.000000                   False   \n",
      "2010-09-01               1.000000                   False   \n",
      "2010-10-01               1.000000                   False   \n",
      "2010-11-01               0.999244                   False   \n",
      "2010-12-01               0.997683                   False   \n",
      "...                           ...                     ...   \n",
      "2021-08-01               0.997510                   False   \n",
      "2021-09-01               0.997510                   False   \n",
      "2021-10-01               0.997510                   False   \n",
      "2021-11-01               0.997510                   False   \n",
      "2021-12-01               0.997510                   False   \n",
      "\n",
      "            generation-filtered  gross-generation-filtered  \\\n",
      "2010-08-01              2877.00                    2877.00   \n",
      "2010-09-01             23628.00                   23628.00   \n",
      "2010-10-01             39593.00                   39593.00   \n",
      "2010-11-01             59506.00                   59551.00   \n",
      "2010-12-01             50388.00                   50505.00   \n",
      "...                         ...                        ...   \n",
      "2021-08-01             22447.84                   22503.87   \n",
      "2021-09-01             39964.27                   40064.02   \n",
      "2021-10-01             43604.64                   43713.48   \n",
      "2021-11-01             58228.13                   58373.48   \n",
      "2021-12-01             59986.34                   60136.07   \n",
      "\n",
      "            generation-normalised  concurrent-generation-normalised  \\\n",
      "2010-08-01            2784.193548                       2784.193548   \n",
      "2010-09-01           23628.000000                      23628.000000   \n",
      "2010-10-01           38315.806452                      38315.806452   \n",
      "2010-11-01           59551.000000                      59551.000000   \n",
      "2010-12-01           48875.806452                      48875.806452   \n",
      "...                           ...                               ...   \n",
      "2021-08-01           21777.938710                      21777.938710   \n",
      "2021-09-01           40064.020000                      40064.020000   \n",
      "2021-10-01           42303.367742                      42303.367742   \n",
      "2021-11-01           58373.480000                      58373.480000   \n",
      "2021-12-01           58196.196774                      58196.196774   \n",
      "\n",
      "            concurrent-windspeed_ms  \n",
      "2010-08-01                 2.507124  \n",
      "2010-09-01                 3.842653  \n",
      "2010-10-01                 3.913650  \n",
      "2010-11-01                 4.162776  \n",
      "2010-12-01                 3.921220  \n",
      "...                             ...  \n",
      "2021-08-01                 2.698300  \n",
      "2021-09-01                 3.693215  \n",
      "2021-10-01                 3.651588  \n",
      "2021-11-01                 4.191844  \n",
      "2021-12-01                 4.225758  \n",
      "\n",
      "[136 rows x 12 columns]\n"
     ]
    }
   ],
   "source": [
    "# add filtered generation column\n",
    "df[\"generation-filtered\"] = df[\"generation\"][df[\"exclude-from-long-term\"]==False]\n",
    "df[\"gross-generation-filtered\"] = df[\"gross-generation\"][df[\"exclude-from-long-term\"]==False]\n",
    "\n",
    "# add normalised generation column\n",
    "df[\"generation-normalised\"] = df[\"gross-generation-filtered\"]*30/df[\"days-in-month\"]\n",
    "\n",
    "# add concurrent generation normalised column\n",
    "df[\"concurrent-generation-normalised\"] = df[\"generation-normalised\"][df[\"windspeed_ms\"].notnull() & df[\"generation-normalised\"].notnull()]\n",
    "\n",
    "# add concurrent windspeed\n",
    "df[\"concurrent-windspeed_ms\"] = df[\"windspeed_ms\"][df[\"concurrent-generation-normalised\"].notnull()]\n",
    "\n",
    "print(df.dropna())\n"
   ]
  },
  {
   "cell_type": "markdown",
   "metadata": {},
   "source": [
    "## Correlation outliers\n",
    "\n",
    "Certain events may cause some months to appear as outliers in the correlation. These may still be expected to reoccur in the future, but adversely affect the correlation. Typical examples are where the availability has been incorrectly reported, and so the gross generation is underestimated. In this case they can be excluded here. If however the outliers are considered as exceptional \"one-off\" events, that are unlikely to occur in the future, then these should be applied as an exclusion to the long-term analysis."
   ]
  },
  {
   "cell_type": "code",
   "execution_count": 9,
   "metadata": {},
   "outputs": [
    {
     "name": "stdout",
     "output_type": "stream",
     "text": [
      "Linear fit with no filtering\n",
      "Slope: 23833.320782454488\n",
      "Intercept: -48512.97496018141\n",
      "R-squared: 0.898895\n"
     ]
    }
   ],
   "source": [
    "# detect correlation outliers and filter out\n",
    "\n",
    "# apply linear regression\n",
    "res = stats.linregress(x=df[\"concurrent-windspeed_ms\"].dropna(),y=df[\"concurrent-generation-normalised\"].dropna())\n",
    "\n",
    "print(\"Linear fit with no filtering\")\n",
    "print(f\"Slope: {res.slope}\")\n",
    "print(f\"Intercept: {res.intercept}\")\n",
    "print(f\"R-squared: {res.rvalue**2:.6f}\")\n",
    "\n",
    "# synthesise generation\n",
    "df[\"concurrent-generation-synthesised-no-filter\"] = res.intercept + res.slope*df[\"concurrent-windspeed_ms\"]\n",
    "\n",
    "# detect correlation outliers\n",
    "df[\"residuals\"] = df[\"concurrent-generation-normalised\"]-df[\"concurrent-generation-synthesised-no-filter\"]\n",
    "df[\"correlation-outlier\"] = df[\"residuals\"].abs() > 3*df[\"residuals\"].std()"
   ]
  },
  {
   "cell_type": "code",
   "execution_count": 11,
   "metadata": {},
   "outputs": [],
   "source": [
    "# any further data points that you wish to exclude from the correlation can be done so here\n",
    "# e.g. df.loc[\"2010-08-01\",\"correlation-outlier\"] = True\n",
    "df.loc[\"2010-08-01\",\"correlation-outlier\"] = True"
   ]
  },
  {
   "cell_type": "code",
   "execution_count": 12,
   "metadata": {},
   "outputs": [],
   "source": [
    "# filter data for the improved correlation fit\n",
    "df[\"concurrent-generation-normalised-filtered\"] = df[\"concurrent-generation-normalised\"][~df[\"correlation-outlier\"]]\n",
    "df[\"concurrent-windspeed_ms-filtered\"] = df[\"concurrent-windspeed_ms\"][~df[\"correlation-outlier\"]]"
   ]
  },
  {
   "cell_type": "code",
   "execution_count": 14,
   "metadata": {},
   "outputs": [
    {
     "name": "stdout",
     "output_type": "stream",
     "text": [
      "Linear fit with filtering\n",
      "Slope: 23940.99739010378\n",
      "Intercept: -48572.36781575804\n",
      "R-squared: 0.920173\n"
     ]
    }
   ],
   "source": [
    "# apply linear regression\n",
    "res = stats.linregress(x=df[\"concurrent-windspeed_ms-filtered\"].dropna(),y=df[\"concurrent-generation-normalised-filtered\"].dropna())\n",
    "\n",
    "print(\"Linear fit with filtering\")\n",
    "print(f\"Slope: {res.slope}\")\n",
    "print(f\"Intercept: {res.intercept}\")\n",
    "print(f\"R-squared: {res.rvalue**2:.6f}\")\n",
    "\n",
    "# synthesise the generation\n",
    "df[\"generation-synthesised\"] = res.intercept + res.slope*df[\"windspeed_ms\"]\n",
    "df[\"concurrent-generation-synthesised\"] = res.intercept + res.slope*df[\"concurrent-windspeed_ms\"]"
   ]
  },
  {
   "cell_type": "code",
   "execution_count": 15,
   "metadata": {},
   "outputs": [
    {
     "data": {
      "text/plain": [
       "<matplotlib.legend.Legend at 0x15f77af3e10>"
      ]
     },
     "execution_count": 15,
     "metadata": {},
     "output_type": "execute_result"
    },
    {
     "data": {
      "image/png": "[encoded data removed]",
      "text/plain": [
       "<Figure size 640x480 with 1 Axes>"
      ]
     },
     "metadata": {},
     "output_type": "display_data"
    }
   ],
   "source": [
    "# plot outliers for review\n",
    "\n",
    "df_filtered = df.loc[df[\"correlation-outlier\"]==False] \n",
    "\n",
    "plt.plot(df[\"windspeed_ms\"], df[\"concurrent-generation-normalised\"], 'go', label='concurrent data')\n",
    "plt.plot(df[\"windspeed_ms\"], df[\"concurrent-generation-synthesised-no-filter\"], 'g', label='linear fit concurrent')\n",
    "plt.plot(df[\"windspeed_ms\"], df[\"concurrent-generation-normalised-filtered\"], 'ro', markersize=4, label='fully filtered data')\n",
    "plt.plot(df[\"windspeed_ms\"], df[\"concurrent-generation-synthesised\"], 'r', label='improved linear fit')\n",
    "plt.legend()"
   ]
  },
  {
   "cell_type": "markdown",
   "metadata": {},
   "source": [
    "## Mean of Monthly Means"
   ]
  },
  {
   "cell_type": "code",
   "execution_count": 16,
   "metadata": {},
   "outputs": [
    {
     "name": "stdout",
     "output_type": "stream",
     "text": [
      "       generation-normalised  generation-synthesised  \\\n",
      "month                                                  \n",
      "1               50736.765484            51301.519531   \n",
      "2               52782.206326            52772.628906   \n",
      "3               52868.677126            51614.406250   \n",
      "4               55235.773636            56339.363281   \n",
      "5               40477.209677            44419.152344   \n",
      "6               31309.899091            32331.281250   \n",
      "7               19143.197947            20545.419922   \n",
      "8               15984.597581            18957.781250   \n",
      "9               28639.444167            31197.966797   \n",
      "10              42480.273387            46333.460938   \n",
      "11              56209.232500            52073.218750   \n",
      "12              49408.741935            49574.871094   \n",
      "\n",
      "       concurrent-generation-synthesised  resource-adjustment  \n",
      "month                                                          \n",
      "1                           49108.671875             1.044653  \n",
      "2                           53243.066406             0.991164  \n",
      "3                           51179.152344             1.008505  \n",
      "4                           54845.652344             1.027235  \n",
      "5                           42971.183594             1.033696  \n",
      "6                           33536.468750             0.964063  \n",
      "7                           19452.560547             1.056181  \n",
      "8                           16088.377930             1.178353  \n",
      "9                           32994.074219             0.945563  \n",
      "10                          46821.500000             0.989577  \n",
      "11                          52505.050781             0.991775  \n",
      "12                          46458.687500             1.067074  \n"
     ]
    }
   ],
   "source": [
    "# mean of monthly means\n",
    "momm = df.groupby(\"month\").mean()\n",
    "\n",
    "# long-term resource adjustment\n",
    "momm[\"resource-adjustment\"] = momm[\"generation-synthesised\"]/momm[\"concurrent-generation-synthesised\"]\n",
    "\n",
    "print(momm[[\"generation-normalised\",\"generation-synthesised\",\"concurrent-generation-synthesised\",\"resource-adjustment\"]])"
   ]
  },
  {
   "cell_type": "code",
   "execution_count": 17,
   "metadata": {},
   "outputs": [
    {
     "name": "stdout",
     "output_type": "stream",
     "text": [
      "       gross-generation  gross-generation-filtered  resource-adjustment  \\\n",
      "month                                                                     \n",
      "1          54580.719091               52427.991000             1.044653   \n",
      "2          49736.621818               49736.621818             0.991164   \n",
      "3          54630.966364               54630.966364             1.008505   \n",
      "4          55235.773636               55235.773636             1.027235   \n",
      "5          41826.450000               41826.450000             1.033696   \n",
      "6          31309.899091               31309.899091             0.964063   \n",
      "7          19781.304545               19781.304545             1.056181   \n",
      "8          16517.417500               16517.417500             1.178353   \n",
      "9          28639.444167               28639.444167             0.945563   \n",
      "10         43896.282500               43896.282500             0.989577   \n",
      "11         56209.232500               56209.232500             0.991775   \n",
      "12         51055.700000               51055.700000             1.067074   \n",
      "\n",
      "       gross-generation-long-term  reported-availability  \\\n",
      "month                                                      \n",
      "1                    54769.054876               0.997626   \n",
      "2                    49297.165275               0.997956   \n",
      "3                    55095.575959               0.997850   \n",
      "4                    56740.108481               0.998255   \n",
      "5                    43235.846349               0.997861   \n",
      "6                    30184.726093               0.996836   \n",
      "7                    20892.632390               0.993512   \n",
      "8                    19463.341764               0.992494   \n",
      "9                    27080.390734               0.996761   \n",
      "10                   43438.733029               0.997666   \n",
      "11                   55746.933680               0.998264   \n",
      "12                   54480.225280               0.997915   \n",
      "\n",
      "       net-generation-long-term  \n",
      "month                            \n",
      "1                  54639.010210  \n",
      "2                  49196.399905  \n",
      "3                  54977.131689  \n",
      "4                  56641.071841  \n",
      "5                  43143.352144  \n",
      "6                  30089.229483  \n",
      "7                  20757.076396  \n",
      "8                  19317.253537  \n",
      "9                  26992.684276  \n",
      "10                 43337.342663  \n",
      "11                 55650.153758  \n",
      "12                 54366.635221  \n"
     ]
    }
   ],
   "source": [
    "# long-term monthly\n",
    "momm[\"reported-availability\"] = momm[\"generation-filtered\"]/momm[\"gross-generation-filtered\"]\n",
    "momm[\"gross-generation-long-term\"] = momm[\"gross-generation-filtered\"]*momm[\"resource-adjustment\"]\n",
    "momm[\"net-generation-long-term\"] = momm[\"gross-generation-long-term\"]*momm[\"reported-availability\"]\n",
    "\n",
    "print(momm[[\"gross-generation\",\"gross-generation-filtered\",\"resource-adjustment\",\"gross-generation-long-term\",\"reported-availability\",\"net-generation-long-term\"]])"
   ]
  },
  {
   "cell_type": "markdown",
   "metadata": {},
   "source": [
    "## P50 estimate"
   ]
  },
  {
   "cell_type": "code",
   "execution_count": 24,
   "metadata": {},
   "outputs": [
    {
     "name": "stdout",
     "output_type": "stream",
     "text": [
      "generation                    502144.017879\n",
      "gross-generation              503419.811212\n",
      "gross-generation-filtered     501267.083121\n",
      "gross-generation-long-term    510424.733910\n",
      "net-generation-long-term      509107.341123\n",
      "resource-adjustment                1.018269\n",
      "availability                       0.997419\n",
      "r-squared                          0.920173\n",
      "dtype: float64\n"
     ]
    }
   ],
   "source": [
    "# P50 estimate\n",
    "p50 = momm[[\"generation\",\"gross-generation\",\"gross-generation-filtered\",\"gross-generation-long-term\",\"net-generation-long-term\"]].sum()\n",
    "p50[\"resource-adjustment\"] = p50[\"gross-generation-long-term\"]/p50[\"gross-generation-filtered\"]\n",
    "p50[\"availability\"] = p50[\"net-generation-long-term\"]/p50[\"gross-generation-long-term\"]\n",
    "p50[\"r-squared\"] = res.rvalue**2\n",
    "print(p50)"
   ]
  },
  {
   "cell_type": "markdown",
   "metadata": {},
   "source": [
    "## Save results"
   ]
  },
  {
   "cell_type": "code",
   "execution_count": 19,
   "metadata": {},
   "outputs": [],
   "source": [
    "# export results to excel\n",
    "\n",
    "save_pathname = \"results\"\n",
    "\n",
    "save_pathname = Path(save_pathname).resolve()\n",
    "\n",
    "if not save_pathname.exists():\n",
    "    save_pathname.mkdir()\n",
    "\n",
    "outfile = save_pathname / f\"result_plant_{selected_plant['plantid']}.xlsx\"\n",
    "\n",
    "\n",
    "with pd.ExcelWriter(outfile) as writer:  \n",
    "\n",
    "    df.sort_index(ascending=False).to_excel(writer, sheet_name='monthly_data')\n",
    "\n",
    "    momm.to_excel(writer, sheet_name='momm')\n",
    "\n",
    "    p50.to_excel(writer, sheet_name='p50')"
   ]
  },
  {
   "cell_type": "code",
   "execution_count": 20,
   "metadata": {},
   "outputs": [],
   "source": [
    "# from sklearn.neighbors import LocalOutlierFactor\n",
    "# import numpy as np\n",
    "\n",
    "# clf = LocalOutlierFactor(n_neighbors=2)\n",
    "# clf.fit_predict(df_concurrent)\n",
    "# df_concurrent[\"clf\"]=clf.negative_outlier_factor_\n",
    "# print(df_concurrent)\n",
    "# df_concurrent.to_clipboard()\n",
    "#np.mean(np.std(clf.negative_outlier_factor_))-5*np.std(clf.negative_outlier_factor_)"
   ]
  },
  {
   "cell_type": "code",
   "execution_count": 21,
   "metadata": {},
   "outputs": [],
   "source": [
    "\n",
    "# fig, ax = plt.subplots(figsize=(20,10)) \n",
    "# df.plot(y = \"generation\", ax = ax) \n",
    "# df.plot(y = \"gross-generation\", ax = ax) \n",
    "# df.plot(y = \"windspeed_ms\", ax = ax, secondary_y = True) \n",
    "# plt.show()\n",
    "\n",
    "#fig, ax = plt.subplots(figsize=(20,10)) \n",
    "#df.plot.scatter(x=\"windspeed_ms\",y=\"generation-normalised\",ax=ax)\n"
   ]
  },
  {
   "cell_type": "code",
   "execution_count": 22,
   "metadata": {},
   "outputs": [],
   "source": [
    "#from sklearn.cluster import DBSCAN\n",
    "\n",
    "# clustering = DBSCAN(eps=3, min_samples=2).fit(df_concurrent[[\"windspeed_ms\",\"generation-normalised\"]])\n",
    "\n",
    "# print(clustering.labels_)"
   ]
  }
 ],
 "metadata": {
  "kernelspec": {
   "display_name": ".venv",
   "language": "python",
   "name": "python3"
  },
  "language_info": {
   "codemirror_mode": {
    "name": "ipython",
    "version": 3
   },
   "file_extension": ".py",
   "mimetype": "text/x-python",
   "name": "python",
   "nbconvert_exporter": "python",
   "pygments_lexer": "ipython3",
   "version": "3.11.4"
  },
  "orig_nbformat": 4
 },
 "nbformat": 4,
 "nbformat_minor": 2
}
